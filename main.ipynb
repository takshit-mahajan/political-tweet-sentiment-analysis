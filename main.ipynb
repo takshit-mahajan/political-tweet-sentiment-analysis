{
 "cells": [
  {
   "cell_type": "code",
   "execution_count": null,
   "id": "129be104",
   "metadata": {},
   "outputs": [],
   "source": [
    "pip install wordcloud"
   ]
  },
  {
   "cell_type": "code",
   "execution_count": null,
   "id": "bc0e2d0c",
   "metadata": {},
   "outputs": [],
   "source": [
    "# 1. Import Libraries\n",
    "import pandas as pd\n",
    "import numpy as np\n",
    "import matplotlib.pyplot as plt\n",
    "import seaborn as sns\n",
    "from wordcloud import WordCloud # type: ignore\n",
    "import re\n",
    "import string\n",
    "import nltk # type: ignore\n",
    "nltk.download('stopwords')\n",
    "from nltk.corpus import stopwords # type: ignore"
   ]
  },
  {
   "cell_type": "code",
   "execution_count": null,
   "id": "6f4d99f7",
   "metadata": {},
   "outputs": [],
   "source": [
    "bjp_df = pd.read_csv(\"bjp_tweets.csv\")"
   ]
  },
  {
   "cell_type": "code",
   "execution_count": null,
   "id": "10c440a9",
   "metadata": {},
   "outputs": [],
   "source": [
    "bjp_df.head(3)"
   ]
  },
  {
   "cell_type": "code",
   "execution_count": null,
   "id": "a8e460e2",
   "metadata": {},
   "outputs": [],
   "source": [
    "bjp_df['party'] = 'BJP'"
   ]
  },
  {
   "cell_type": "code",
   "execution_count": null,
   "id": "cb0fae7b",
   "metadata": {},
   "outputs": [],
   "source": [
    "bjp_df.head(3)"
   ]
  },
  {
   "cell_type": "code",
   "execution_count": null,
   "id": "efdee0f5",
   "metadata": {},
   "outputs": [],
   "source": [
    "# Checking any duplicate values exist or not:-\n",
    "bjp_df.duplicated().value_counts()"
   ]
  },
  {
   "cell_type": "code",
   "execution_count": null,
   "id": "c4a1e621",
   "metadata": {},
   "outputs": [],
   "source": [
    "# Dropping duplicates and considering tweet lenght as a major point to come to conclusion:-\n",
    "bjp_df.drop_duplicates(subset='tweet', inplace=True)\n",
    "bjp_df.dropna(subset=['tweet'], inplace=True)\n",
    "bjp_df['tweet_length'] = bjp_df['tweet'].astype(str).apply(len)"
   ]
  },
  {
   "cell_type": "code",
   "execution_count": null,
   "id": "58584efb",
   "metadata": {},
   "outputs": [],
   "source": [
    "bjp_df.head(3)"
   ]
  },
  {
   "cell_type": "code",
   "execution_count": null,
   "id": "e9c0f352",
   "metadata": {},
   "outputs": [],
   "source": [
    "# 4. Setting Plot Style\n",
    "sns.set_style('darkgrid')\n",
    "plt.rcParams['figure.figsize'] = (10, 6)"
   ]
  },
  {
   "cell_type": "code",
   "execution_count": null,
   "id": "8f106e18",
   "metadata": {},
   "outputs": [],
   "source": [
    "# 5. Plot Sentiment Distribution (Bar)\n",
    "sns.countplot(x='target', data=bjp_df, palette='Set2')\n",
    "plt.title(\"Overall Sentiment Distribution (BJP)\")\n",
    "plt.xlabel(\"Sentiment (0 = Negative, 1 = Positive)\")\n",
    "plt.ylabel(\"Tweet Count\")\n",
    "plt.show()"
   ]
  },
  {
   "cell_type": "markdown",
   "id": "727745a7",
   "metadata": {},
   "source": [
    "## above distribution makes us conclude that data is almost balanced neither steps to add for imbalancing dat."
   ]
  },
  {
   "cell_type": "code",
   "execution_count": null,
   "id": "e54aa1a9",
   "metadata": {},
   "outputs": [],
   "source": [
    "sent_counts = bjp_df['target'].value_counts()\n",
    "plt.pie(sent_counts, labels=['Negative', 'Positive'], autopct='%1.1f%%', colors=['#ff9999','#66b3ff'])\n",
    "plt.title(\"Sentiment Percentage (BJP)\")\n",
    "plt.show()"
   ]
  },
  {
   "cell_type": "code",
   "execution_count": null,
   "id": "95e99151",
   "metadata": {},
   "outputs": [],
   "source": [
    "sns.boxplot(x='target', y='tweet_length', data=bjp_df, palette='Set2')\n",
    "plt.title(\"Tweet Length vs Sentiment (BJP)\")\n",
    "plt.xlabel(\"Sentiment\")\n",
    "plt.ylabel(\"Length of Tweet\")\n",
    "plt.show()"
   ]
  },
  {
   "cell_type": "code",
   "execution_count": null,
   "id": "d1a72292",
   "metadata": {},
   "outputs": [],
   "source": [
    "sns.histplot(bjp_df['tweet_length'], bins=50, kde=True, color='skyblue')\n",
    "plt.title(\"Tweet Length Distribution (BJP Tweets)\")\n",
    "plt.xlabel(\"Length of Tweet\")\n",
    "plt.ylabel(\"Frequency\")\n",
    "plt.show()"
   ]
  },
  {
   "cell_type": "code",
   "execution_count": null,
   "id": "d7b78ca7",
   "metadata": {},
   "outputs": [],
   "source": [
    "# Cleaning tweet  text\n",
    "stop_words = set(stopwords.words('english'))\n",
    "def clean_text(text):\n",
    "    text = re.sub(r\"http\\\\S+\", \"\", text)\n",
    "    text = re.sub(r\"@[A-Za-z0-9_]+\", \"\", text)\n",
    "    text = re.sub(r\"#[A-Za-z0-9_]+\", \"\", text)\n",
    "    text = text.translate(str.maketrans('', '', string.punctuation))\n",
    "    tokens = text.lower().split()\n",
    "    tokens = [word for word in tokens if word not in stop_words and len(word) > 2]\n",
    "    return tokens\n",
    "\n",
    "# Generate word cloud\n",
    "def generate_wordcloud(data, title):\n",
    "    all_words = []\n",
    "    for tweet in data:\n",
    "        all_words.extend(clean_text(tweet))\n",
    "    wordcloud = WordCloud(width=800, height=400, background_color='white').generate(\" \".join(all_words))\n",
    "    plt.figure(figsize=(10, 5))\n",
    "    plt.imshow(wordcloud, interpolation='bilinear')\n",
    "    plt.axis('off')\n",
    "    plt.title(title)\n",
    "    plt.show()\n",
    "\n",
    "# WordCloud: Positive Tweets\n",
    "positive_tweets = bjp_df[bjp_df['target'] == 1]['tweet']\n",
    "generate_wordcloud(positive_tweets, \"BJP - Positive Tweets\")\n",
    "\n",
    "# WordCloud: Negative Tweets\n",
    "negative_tweets = bjp_df[bjp_df['target'] == 0]['tweet']\n",
    "generate_wordcloud(negative_tweets, \"BJP - Negative Tweets\")"
   ]
  }
 ],
 "metadata": {
  "kernelspec": {
   "display_name": "nlpenv",
   "language": "python",
   "name": "python3"
  },
  "language_info": {
   "codemirror_mode": {
    "name": "ipython",
    "version": 3
   },
   "file_extension": ".py",
   "mimetype": "text/x-python",
   "name": "python",
   "nbconvert_exporter": "python",
   "pygments_lexer": "ipython3",
   "version": "3.13.5"
  }
 },
 "nbformat": 4,
 "nbformat_minor": 5
}
